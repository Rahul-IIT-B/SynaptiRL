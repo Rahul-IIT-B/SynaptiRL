{
 "cells": [
  {
   "cell_type": "markdown",
   "id": "0ba7bd58",
   "metadata": {},
   "source": [
    "# Objective 3: STDP + Q-learning Integration\n",
    "\n",
    "Combining spiking STDP learning rule with Q-learning updates\n"
   ]
  },
  {
   "cell_type": "code",
   "execution_count": 36,
   "id": "496cc261",
   "metadata": {},
   "outputs": [],
   "source": [
    "# 1. Imports and setup\n",
    "import torch\n",
    "import torch.nn as nn\n",
    "import torch.optim as optim\n",
    "import numpy as np\n",
    "import gymnasium as gym\n",
    "import random\n",
    "\n",
    "device = torch.device(\"cuda\" if torch.cuda.is_available() else \"cpu\")\n"
   ]
  },
  {
   "cell_type": "code",
   "execution_count": 37,
   "id": "11aafcaa",
   "metadata": {},
   "outputs": [],
   "source": [
    "# 2. Hyperparameters (tuned for better accuracy)\n",
    "num_episodes   = 10000  # Increased for more learning\n",
    "max_steps      = 100   # Reasonable episode length\n",
    "\n",
    "gamma          = 0.95        # Discount factor for Q-learning\n",
    "alpha_td       = 0.005       # Lower TD error learning rate\n",
    "alpha_stdp     = 0.002       # Lower STDP/eligibility trace learning rate\n",
    "\n",
    "tau_e          = 20.0        # Eligibility trace decay (ms)\n",
    "w_min, w_max   = -1.0, 1.0   # Synaptic weight bounds\n",
    "\n",
    "epsilon        = 1.0         # Initial epsilon for epsilon-greedy\n",
    "min_epsilon    = 0.01\n",
    "epsilon_decay  = 0.998        # Slower decay for more exploration\n",
    "\n",
    "temperature    = 1.0         # For softmax exploration (optional)\n",
    "tau_decay      = 0.995\n",
    "\n",
    "# Environment setup\n",
    "env        = gym.make('Taxi-v3')\n",
    "num_states = env.observation_space.n\n",
    "num_actions= env.action_space.n\n",
    "\n",
    "# SNN/Network parameters for better learning\n",
    "n_hidden = 64   # Increased from 32\n",
    "snn_steps = 10  # Increased from 5\n",
    "\n"
   ]
  },
  {
   "cell_type": "code",
   "execution_count": 38,
   "id": "2c897a20",
   "metadata": {},
   "outputs": [],
   "source": [
    "# 3. Network: Spiking synapses as Q-table\n",
    "#    Represent Q-values as trainable synaptic weights\n",
    "\n",
    "# One-hot input layer, no hidden layer\n",
    "class SNN_Q(nn.Module):\n",
    "    def __init__(self, num_states, num_actions, beta=0.9, n_hidden=64, snn_steps=10):\n",
    "        super().__init__()\n",
    "        # weights from state neurons to action neurons\n",
    "        self.w = nn.Parameter(torch.zeros(num_states, num_actions))\n",
    "        self.beta = beta\n",
    "        self.n_hidden = n_hidden\n",
    "        self.snn_steps = snn_steps\n",
    "\n",
    "    def forward(self, state_idx):\n",
    "        # one-hot encoding\n",
    "        x = torch.zeros(1, num_states, device=device)\n",
    "        x[0, state_idx] = 1.0\n",
    "        # instantaneous \"membrane\" potentials = weighted sum\n",
    "        mem = x @ self.w\n",
    "        return mem.squeeze(0)\n",
    "\n",
    "model = SNN_Q(num_states, num_actions).to(device)\n",
    "optimizer = optim.SGD(model.parameters(), lr=alpha_td)\n",
    "\n"
   ]
  },
  {
   "cell_type": "code",
   "execution_count": 39,
   "id": "63d97602",
   "metadata": {},
   "outputs": [],
   "source": [
    "# 4. STDP learning rule (simplified):\n",
    "def stdp_update(w, pre_spike, post_spike, lr=alpha, tau_plus=20, tau_minus=20):\n",
    "    # if pre before post: potentiation, else depression\n",
    "    delta_w = torch.zeros_like(w)\n",
    "    # here pre_spike, post_spike are 0/1\n",
    "    if pre_spike and post_spike:\n",
    "        delta_w += lr * w.new_tensor(np.exp(-1/tau_plus))\n",
    "    elif pre_spike and not post_spike:\n",
    "        delta_w -= lr * w.new_tensor(np.exp(-1/tau_minus))\n",
    "    return delta_w\n",
    "\n"
   ]
  },
  {
   "cell_type": "code",
   "execution_count": 40,
   "id": "0f8fe732",
   "metadata": {},
   "outputs": [],
   "source": [
    "# 5. Training loop with Q-learning + STDP\n",
    "env = gym.make('Taxi-v3')\n",
    "table = []\n",
    "for episode in range(num_episodes):\n",
    "    state, _ = env.reset()\n",
    "    for step in range(max_steps):\n",
    "        # forward pass: get Q-values\n",
    "        q_vals = model(state)\n",
    "        # epsilon-greedy\n",
    "        if random.random() < epsilon:\n",
    "            action = env.action_space.sample()\n",
    "        else:\n",
    "            action = q_vals.argmax().item()\n",
    "        next_state, reward, done, truncated, _ = env.step(action)\n",
    "\n",
    "        # estimate target using next state's max Q\n",
    "        with torch.no_grad():\n",
    "            next_q = model(next_state)\n",
    "            target = reward + gamma * next_q.max().item()\n",
    "\n",
    "        # compute classical Q-error\n",
    "        pred = q_vals[action]\n",
    "        error = target - pred.item()\n",
    "\n",
    "        # STDP-like weight update for synapse (state->action)\n",
    "        pre_spike = 1\n",
    "        post_spike = 1 if action == q_vals.argmax().item() else 0\n",
    "        dw = stdp_update(model.w[state, action], pre_spike, post_spike)\n",
    "\n",
    "        # directly adjust weight tensor\n",
    "        model.w.data[state, action] += alpha * error + dw\n",
    "\n",
    "        state = next_state\n",
    "        if done or truncated:\n",
    "            break\n",
    "    epsilon = max(min_epsilon, epsilon * epsilon_decay)\n",
    "\n"
   ]
  },
  {
   "cell_type": "code",
   "execution_count": 42,
   "id": "cc024a16",
   "metadata": {},
   "outputs": [
    {
     "name": "stdout",
     "output_type": "stream",
     "text": [
      "Episode 0\n",
      "Reward: 20\n",
      "\n",
      "Episode 1\n",
      "Reward: 20\n",
      "\n",
      "Episode 2\n",
      "Reward: -1\n",
      "\n",
      "Episode 3\n",
      "Reward: -1\n",
      "\n",
      "Episode 4\n",
      "Reward: -1\n",
      "\n"
     ]
    }
   ],
   "source": [
    "# 6. Evaluate policy\n",
    "env_eval = gym.make('Taxi-v3')\n",
    "\n",
    "for ep in range(5):\n",
    "    s, _ = env_eval.reset()\n",
    "    done=False\n",
    "    print(f\"Episode {ep}\")\n",
    "    while not done:\n",
    "        q_vals = model(s)\n",
    "        a = q_vals.argmax().item()\n",
    "        s, r, done, truncated, _ = env_eval.step(a)\n",
    "        env_eval.render()\n",
    "        if done or truncated:\n",
    "            print(f\"Reward: {r}\\n\")\n",
    "            break\n"
   ]
  }
 ],
 "metadata": {
  "kernelspec": {
   "display_name": ".venv",
   "language": "python",
   "name": "python3"
  },
  "language_info": {
   "codemirror_mode": {
    "name": "ipython",
    "version": 3
   },
   "file_extension": ".py",
   "mimetype": "text/x-python",
   "name": "python",
   "nbconvert_exporter": "python",
   "pygments_lexer": "ipython3",
   "version": "3.13.3"
  }
 },
 "nbformat": 4,
 "nbformat_minor": 5
}
